{
 "nbformat": 4,
 "nbformat_minor": 2,
 "metadata": {
  "language_info": {
   "name": "python",
   "codemirror_mode": {
    "name": "ipython",
    "version": 3
   }
  },
  "orig_nbformat": 2,
  "file_extension": ".py",
  "mimetype": "text/x-python",
  "name": "python",
  "npconvert_exporter": "python",
  "pygments_lexer": "ipython3",
  "version": 3
 },
 "cells": [
  {
   "cell_type": "markdown",
   "execution_count": null,
   "metadata": {},
   "outputs": [],
   "source": [
    "# --- MultiThreading ---\n"
   ]
  },
  {
   "cell_type": "code",
   "execution_count": 20,
   "metadata": {},
   "outputs": [],
   "source": [
    "import threading\n",
    "from time import sleep"
   ]
  },
  {
   "cell_type": "code",
   "execution_count": 21,
   "metadata": {},
   "outputs": [
    {
     "name": "stdout",
     "output_type": "stream",
     "text": "Hello\nHello\nHello\nHello\nHello\n"
    }
   ],
   "source": [
    "class Hello(Thread):\n",
    "    def run(self):\n",
    "        for i in range(5):\n",
    "            print('Hello')\n",
    "\n",
    "h1=Hello()\n",
    "#h1.run()\n",
    "h1.start()\n"
   ]
  },
  {
   "cell_type": "code",
   "execution_count": 22,
   "metadata": {},
   "outputs": [
    {
     "name": "stdout",
     "output_type": "stream",
     "text": "Hi\nHi\nHi\nHi\nHi\n"
    }
   ],
   "source": [
    "class Hi(Thread):\n",
    "    def run(self):\n",
    "        for i in range(5):\n",
    "            print('Hi')\n",
    "\n",
    "h2=Hi()\n",
    "#h2.run()\n",
    "h2.start()"
   ]
  },
  {
   "cell_type": "code",
   "execution_count": 23,
   "metadata": {},
   "outputs": [
    {
     "name": "stdout",
     "output_type": "stream",
     "text": "Hello\nHello\nHello\nHello\nHello\nHi\nHi\nHi\nHi"
    }
   ],
   "source": [
    "class Hello(Thread):\n",
    "    def run(self):\n",
    "        for i in range(5):\n",
    "            print('Hello')\n",
    "\n",
    "class Hi(Thread):\n",
    "    def run(self):\n",
    "        for i in range(5):\n",
    "            print('Hi')\n",
    "\n",
    "h1=Hello()\n",
    "h2=Hi()\n",
    "h1.start()\n",
    "h2.start()\n"
   ]
  },
  {
   "cell_type": "code",
   "execution_count": 41,
   "metadata": {},
   "outputs": [
    {
     "name": "stdout",
     "output_type": "stream",
     "text": "Hello\nHello\nHello\nHello\nHello\nHi\nHi\nHi\nHi\nHi\n"
    }
   ],
   "source": [
    "\n",
    "class Hello(Thread):\n",
    "    def run(self):\n",
    "        for i in range(5):\n",
    "            print('Hello')\n",
    "             # default argument is in second\n",
    "        sleep(2)\n",
    "\n",
    "class Hi(Thread):\n",
    "    def run(self):\n",
    "        for i in range(5):\n",
    "            print('Hi')\n",
    "        sleep(2)\n",
    "            \n",
    "\n",
    "h1=Hello()\n",
    "h2=Hi()\n",
    "h1.run()\n",
    "sleep(4)\n",
    "h2.run()"
   ]
  }
 ]
}