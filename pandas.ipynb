{
 "nbformat": 4,
 "nbformat_minor": 2,
 "metadata": {
  "language_info": {
   "name": "python",
   "codemirror_mode": {
    "name": "ipython",
    "version": 3
   },
   "version": "3.8.1-final"
  },
  "orig_nbformat": 2,
  "file_extension": ".py",
  "mimetype": "text/x-python",
  "name": "python",
  "npconvert_exporter": "python",
  "pygments_lexer": "ipython3",
  "version": 3,
  "kernelspec": {
   "name": "python38164bitf55c051bedc641e994e688b4a798aefc",
   "display_name": "Python 3.8.1 64-bit"
  }
 },
 "cells": [
  {
   "cell_type": "markdown",
   "execution_count": null,
   "metadata": {},
   "outputs": [],
   "source": [
    "# Intro to Pandas"
   ]
  },
  {
   "cell_type": "markdown",
   "execution_count": null,
   "metadata": {},
   "outputs": [],
   "source": [
    "Print version of pandas after install pandas(by typing \"pip install pandas\")"
   ]
  },
  {
   "cell_type": "code",
   "execution_count": 1,
   "metadata": {},
   "outputs": [
    {
     "data": {
      "text/plain": "'0.25.3'"
     },
     "execution_count": 1,
     "metadata": {},
     "output_type": "execute_result"
    }
   ],
   "source": [
    "from __future__ import print_function\n",
    "\n",
    "import pandas as pd\n",
    "pd.__version__"
   ]
  },
  {
   "cell_type": "markdown",
   "execution_count": null,
   "metadata": {},
   "outputs": [],
   "source": [
    "Create a Series data structure"
   ]
  },
  {
   "cell_type": "code",
   "execution_count": 4,
   "metadata": {},
   "outputs": [
    {
     "data": {
      "text/plain": "0           Rupam Paul\n1                  CSE\n2    Techno University\n3               2nd Yr\n4                   20\ndtype: object"
     },
     "execution_count": 4,
     "metadata": {},
     "output_type": "execute_result"
    }
   ],
   "source": [
    "pd.Series(['Rupam Paul','CSE','Techno University','2nd Yr','20'])"
   ]
  },
  {
   "cell_type": "markdown",
   "execution_count": null,
   "metadata": {},
   "outputs": [],
   "source": [
    "Create a DataFrame dataStructure"
   ]
  },
  {
   "cell_type": "code",
   "execution_count": 5,
   "metadata": {},
   "outputs": [
    {
     "data": {
      "text/html": "<div>\n<style scoped>\n    .dataframe tbody tr th:only-of-type {\n        vertical-align: middle;\n    }\n\n    .dataframe tbody tr th {\n        vertical-align: top;\n    }\n\n    .dataframe thead th {\n        text-align: right;\n    }\n</style>\n<table border=\"1\" class=\"dataframe\">\n  <thead>\n    <tr style=\"text-align: right;\">\n      <th></th>\n      <th>Stud_Name</th>\n      <th>Department</th>\n    </tr>\n  </thead>\n  <tbody>\n    <tr>\n      <th>0</th>\n      <td>Rupam Paul</td>\n      <td>CSE</td>\n    </tr>\n    <tr>\n      <th>1</th>\n      <td>Antu Patra</td>\n      <td>ME</td>\n    </tr>\n    <tr>\n      <th>2</th>\n      <td>Biplab Mandal</td>\n      <td>CE</td>\n    </tr>\n    <tr>\n      <th>3</th>\n      <td>Muchi Ram</td>\n      <td>EE</td>\n    </tr>\n  </tbody>\n</table>\n</div>",
      "text/plain": "       Stud_Name Department\n0     Rupam Paul        CSE\n1     Antu Patra         ME\n2  Biplab Mandal         CE\n3      Muchi Ram         EE"
     },
     "execution_count": 5,
     "metadata": {},
     "output_type": "execute_result"
    }
   ],
   "source": [
    "students=pd.Series(['Rupam Paul','Antu Patra','Biplab Mandal','Muchi Ram'])\n",
    "dept=pd.Series(['CSE','ME','CE','EE'])\n",
    "pd.DataFrame({ 'Stud_Name':students, 'Department':dept })"
   ]
  },
  {
   "cell_type": "markdown",
   "execution_count": null,
   "metadata": {},
   "outputs": [],
   "source": [
    "Load an entire file into a DataFrame"
   ]
  },
  {
   "cell_type": "code",
   "execution_count": 2,
   "metadata": {},
   "outputs": [
    {
     "data": {
      "text/html": "<div>\n<style scoped>\n    .dataframe tbody tr th:only-of-type {\n        vertical-align: middle;\n    }\n\n    .dataframe tbody tr th {\n        vertical-align: top;\n    }\n\n    .dataframe thead th {\n        text-align: right;\n    }\n</style>\n<table border=\"1\" class=\"dataframe\">\n  <thead>\n    <tr style=\"text-align: right;\">\n      <th></th>\n      <th>longitude</th>\n      <th>latitude</th>\n      <th>housing_median_age</th>\n      <th>total_rooms</th>\n      <th>total_bedrooms</th>\n      <th>population</th>\n      <th>households</th>\n      <th>median_income</th>\n      <th>median_house_value</th>\n    </tr>\n  </thead>\n  <tbody>\n    <tr>\n      <th>count</th>\n      <td>17000.000000</td>\n      <td>17000.000000</td>\n      <td>17000.000000</td>\n      <td>17000.000000</td>\n      <td>17000.000000</td>\n      <td>17000.000000</td>\n      <td>17000.000000</td>\n      <td>17000.000000</td>\n      <td>17000.000000</td>\n    </tr>\n    <tr>\n      <th>mean</th>\n      <td>-119.562108</td>\n      <td>35.625225</td>\n      <td>28.589353</td>\n      <td>2643.664412</td>\n      <td>539.410824</td>\n      <td>1429.573941</td>\n      <td>501.221941</td>\n      <td>3.883578</td>\n      <td>207300.912353</td>\n    </tr>\n    <tr>\n      <th>std</th>\n      <td>2.005166</td>\n      <td>2.137340</td>\n      <td>12.586937</td>\n      <td>2179.947071</td>\n      <td>421.499452</td>\n      <td>1147.852959</td>\n      <td>384.520841</td>\n      <td>1.908157</td>\n      <td>115983.764387</td>\n    </tr>\n    <tr>\n      <th>min</th>\n      <td>-124.350000</td>\n      <td>32.540000</td>\n      <td>1.000000</td>\n      <td>2.000000</td>\n      <td>1.000000</td>\n      <td>3.000000</td>\n      <td>1.000000</td>\n      <td>0.499900</td>\n      <td>14999.000000</td>\n    </tr>\n    <tr>\n      <th>25%</th>\n      <td>-121.790000</td>\n      <td>33.930000</td>\n      <td>18.000000</td>\n      <td>1462.000000</td>\n      <td>297.000000</td>\n      <td>790.000000</td>\n      <td>282.000000</td>\n      <td>2.566375</td>\n      <td>119400.000000</td>\n    </tr>\n    <tr>\n      <th>50%</th>\n      <td>-118.490000</td>\n      <td>34.250000</td>\n      <td>29.000000</td>\n      <td>2127.000000</td>\n      <td>434.000000</td>\n      <td>1167.000000</td>\n      <td>409.000000</td>\n      <td>3.544600</td>\n      <td>180400.000000</td>\n    </tr>\n    <tr>\n      <th>75%</th>\n      <td>-118.000000</td>\n      <td>37.720000</td>\n      <td>37.000000</td>\n      <td>3151.250000</td>\n      <td>648.250000</td>\n      <td>1721.000000</td>\n      <td>605.250000</td>\n      <td>4.767000</td>\n      <td>265000.000000</td>\n    </tr>\n    <tr>\n      <th>max</th>\n      <td>-114.310000</td>\n      <td>41.950000</td>\n      <td>52.000000</td>\n      <td>37937.000000</td>\n      <td>6445.000000</td>\n      <td>35682.000000</td>\n      <td>6082.000000</td>\n      <td>15.000100</td>\n      <td>500001.000000</td>\n    </tr>\n  </tbody>\n</table>\n</div>",
      "text/plain": "          longitude      latitude  housing_median_age   total_rooms  \\\ncount  17000.000000  17000.000000        17000.000000  17000.000000   \nmean    -119.562108     35.625225           28.589353   2643.664412   \nstd        2.005166      2.137340           12.586937   2179.947071   \nmin     -124.350000     32.540000            1.000000      2.000000   \n25%     -121.790000     33.930000           18.000000   1462.000000   \n50%     -118.490000     34.250000           29.000000   2127.000000   \n75%     -118.000000     37.720000           37.000000   3151.250000   \nmax     -114.310000     41.950000           52.000000  37937.000000   \n\n       total_bedrooms    population    households  median_income  \\\ncount    17000.000000  17000.000000  17000.000000   17000.000000   \nmean       539.410824   1429.573941    501.221941       3.883578   \nstd        421.499452   1147.852959    384.520841       1.908157   \nmin          1.000000      3.000000      1.000000       0.499900   \n25%        297.000000    790.000000    282.000000       2.566375   \n50%        434.000000   1167.000000    409.000000       3.544600   \n75%        648.250000   1721.000000    605.250000       4.767000   \nmax       6445.000000  35682.000000   6082.000000      15.000100   \n\n       median_house_value  \ncount        17000.000000  \nmean        207300.912353  \nstd         115983.764387  \nmin          14999.000000  \n25%         119400.000000  \n50%         180400.000000  \n75%         265000.000000  \nmax         500001.000000  "
     },
     "execution_count": 2,
     "metadata": {},
     "output_type": "execute_result"
    }
   ],
   "source": [
    "california_housing_dataframe=pd.read_csv(\"E:/Downloads/california_housing_train.csv\", sep=\",\")\n",
    "california_housing_dataframe.describe()"
   ]
  },
  {
   "cell_type": "code",
   "execution_count": 22,
   "metadata": {},
   "outputs": [
    {
     "data": {
      "text/html": "<div>\n<style scoped>\n    .dataframe tbody tr th:only-of-type {\n        vertical-align: middle;\n    }\n\n    .dataframe tbody tr th {\n        vertical-align: top;\n    }\n\n    .dataframe thead th {\n        text-align: right;\n    }\n</style>\n<table border=\"1\" class=\"dataframe\">\n  <thead>\n    <tr style=\"text-align: right;\">\n      <th></th>\n      <th>Unnamed: 0</th>\n      <th>Saint Petersburg, Russia</th>\n      <th>Istanbul, Turkey</th>\n      <th>Izmir, Turkey</th>\n      <th>Helsinki, Finland</th>\n      <th>Chisinau, Moldova</th>\n      <th>Milan, Italy</th>\n      <th>Cairo, Egypt</th>\n      <th>Banja Luka, Bosnia And Herzegovina</th>\n      <th>Baku, Azerbaijan</th>\n      <th>...</th>\n      <th>Lviv, Ukraine</th>\n      <th>Novosibirsk, Russia</th>\n      <th>Bursa, Turkey</th>\n      <th>Brussels, Belgium</th>\n      <th>Jerusalem, Israel</th>\n      <th>Melbourne, Australia</th>\n      <th>Perth, Australia</th>\n      <th>Sydney, Australia</th>\n      <th>Alexandria, Egypt</th>\n      <th>Quito, Ecuador</th>\n    </tr>\n  </thead>\n  <tbody>\n    <tr>\n      <th>0</th>\n      <td>Meal, Inexpensive Restaurant</td>\n      <td>7.34</td>\n      <td>4.58</td>\n      <td>3.06</td>\n      <td>12.00</td>\n      <td>4.67</td>\n      <td>15.0</td>\n      <td>3.38</td>\n      <td>3.58</td>\n      <td>5.27</td>\n      <td>...</td>\n      <td>3.75</td>\n      <td>5.72</td>\n      <td>3.82</td>\n      <td>15.0</td>\n      <td>15.56</td>\n      <td>10.22</td>\n      <td>12.43</td>\n      <td>11.81</td>\n      <td>2.81</td>\n      <td>3.59</td>\n    </tr>\n    <tr>\n      <th>1</th>\n      <td>Meal for 2 People, Mid-range Restaurant, Three...</td>\n      <td>29.35</td>\n      <td>15.28</td>\n      <td>12.22</td>\n      <td>65.00</td>\n      <td>20.74</td>\n      <td>60.0</td>\n      <td>17.48</td>\n      <td>22.99</td>\n      <td>23.73</td>\n      <td>...</td>\n      <td>18.76</td>\n      <td>22.01</td>\n      <td>11.47</td>\n      <td>60.0</td>\n      <td>62.24</td>\n      <td>49.54</td>\n      <td>56.55</td>\n      <td>54.37</td>\n      <td>14.06</td>\n      <td>31.45</td>\n    </tr>\n    <tr>\n      <th>2</th>\n      <td>McMeal at McDonalds (or Equivalent Combo Meal)</td>\n      <td>4.40</td>\n      <td>3.82</td>\n      <td>3.06</td>\n      <td>8.00</td>\n      <td>4.15</td>\n      <td>8.0</td>\n      <td>4.51</td>\n      <td>3.58</td>\n      <td>4.22</td>\n      <td>...</td>\n      <td>3.56</td>\n      <td>3.67</td>\n      <td>3.06</td>\n      <td>8.2</td>\n      <td>12.97</td>\n      <td>7.12</td>\n      <td>7.32</td>\n      <td>7.15</td>\n      <td>3.38</td>\n      <td>5.39</td>\n    </tr>\n    <tr>\n      <th>3</th>\n      <td>Domestic Beer (0.5 liter draught)</td>\n      <td>2.20</td>\n      <td>3.06</td>\n      <td>2.29</td>\n      <td>6.50</td>\n      <td>1.04</td>\n      <td>5.0</td>\n      <td>1.69</td>\n      <td>1.02</td>\n      <td>0.84</td>\n      <td>...</td>\n      <td>1.50</td>\n      <td>1.10</td>\n      <td>2.37</td>\n      <td>4.0</td>\n      <td>7.26</td>\n      <td>5.57</td>\n      <td>5.90</td>\n      <td>4.97</td>\n      <td>1.69</td>\n      <td>1.35</td>\n    </tr>\n    <tr>\n      <th>4</th>\n      <td>Imported Beer (0.33 liter bottle)</td>\n      <td>2.20</td>\n      <td>3.06</td>\n      <td>2.75</td>\n      <td>6.75</td>\n      <td>1.43</td>\n      <td>5.0</td>\n      <td>2.82</td>\n      <td>1.53</td>\n      <td>2.11</td>\n      <td>...</td>\n      <td>1.50</td>\n      <td>2.20</td>\n      <td>3.06</td>\n      <td>4.0</td>\n      <td>7.26</td>\n      <td>5.57</td>\n      <td>5.59</td>\n      <td>4.97</td>\n      <td>2.81</td>\n      <td>2.70</td>\n    </tr>\n  </tbody>\n</table>\n<p>5 rows × 161 columns</p>\n</div>",
      "text/plain": "                                          Unnamed: 0  \\\n0                       Meal, Inexpensive Restaurant   \n1  Meal for 2 People, Mid-range Restaurant, Three...   \n2     McMeal at McDonalds (or Equivalent Combo Meal)   \n3                  Domestic Beer (0.5 liter draught)   \n4                  Imported Beer (0.33 liter bottle)   \n\n   Saint Petersburg, Russia  Istanbul, Turkey  Izmir, Turkey  \\\n0                      7.34              4.58           3.06   \n1                     29.35             15.28          12.22   \n2                      4.40              3.82           3.06   \n3                      2.20              3.06           2.29   \n4                      2.20              3.06           2.75   \n\n   Helsinki, Finland  Chisinau, Moldova  Milan, Italy  Cairo, Egypt  \\\n0              12.00               4.67          15.0          3.38   \n1              65.00              20.74          60.0         17.48   \n2               8.00               4.15           8.0          4.51   \n3               6.50               1.04           5.0          1.69   \n4               6.75               1.43           5.0          2.82   \n\n   Banja Luka, Bosnia And Herzegovina  Baku, Azerbaijan  ...  Lviv, Ukraine  \\\n0                                3.58              5.27  ...           3.75   \n1                               22.99             23.73  ...          18.76   \n2                                3.58              4.22  ...           3.56   \n3                                1.02              0.84  ...           1.50   \n4                                1.53              2.11  ...           1.50   \n\n   Novosibirsk, Russia  Bursa, Turkey  Brussels, Belgium  Jerusalem, Israel  \\\n0                 5.72           3.82               15.0              15.56   \n1                22.01          11.47               60.0              62.24   \n2                 3.67           3.06                8.2              12.97   \n3                 1.10           2.37                4.0               7.26   \n4                 2.20           3.06                4.0               7.26   \n\n   Melbourne, Australia  Perth, Australia  Sydney, Australia  \\\n0                 10.22             12.43              11.81   \n1                 49.54             56.55              54.37   \n2                  7.12              7.32               7.15   \n3                  5.57              5.90               4.97   \n4                  5.57              5.59               4.97   \n\n   Alexandria, Egypt  Quito, Ecuador  \n0               2.81            3.59  \n1              14.06           31.45  \n2               3.38            5.39  \n3               1.69            1.35  \n4               2.81            2.70  \n\n[5 rows x 161 columns]"
     },
     "execution_count": 22,
     "metadata": {},
     "output_type": "execute_result"
    }
   ],
   "source": [
    "cost_of_living_dataframe=pd.read_csv(\"E:/Downloads/cost-of-living.csv\",sep=\",\")\n",
    "cost_of_living_dataframe.head()"
   ]
  },
  {
   "cell_type": "code",
   "execution_count": 26,
   "metadata": {},
   "outputs": [
    {
     "data": {
      "text/html": "<div>\n<style scoped>\n    .dataframe tbody tr th:only-of-type {\n        vertical-align: middle;\n    }\n\n    .dataframe tbody tr th {\n        vertical-align: top;\n    }\n\n    .dataframe thead th {\n        text-align: right;\n    }\n</style>\n<table border=\"1\" class=\"dataframe\">\n  <thead>\n    <tr style=\"text-align: right;\">\n      <th></th>\n      <th>longitude</th>\n      <th>latitude</th>\n      <th>housing_median_age</th>\n      <th>total_rooms</th>\n      <th>total_bedrooms</th>\n      <th>population</th>\n      <th>households</th>\n      <th>median_income</th>\n      <th>median_house_value</th>\n    </tr>\n  </thead>\n  <tbody>\n    <tr>\n      <th>0</th>\n      <td>-114.31</td>\n      <td>34.19</td>\n      <td>15.0</td>\n      <td>5612.0</td>\n      <td>1283.0</td>\n      <td>1015.0</td>\n      <td>472.0</td>\n      <td>1.4936</td>\n      <td>66900.0</td>\n    </tr>\n    <tr>\n      <th>1</th>\n      <td>-114.47</td>\n      <td>34.40</td>\n      <td>19.0</td>\n      <td>7650.0</td>\n      <td>1901.0</td>\n      <td>1129.0</td>\n      <td>463.0</td>\n      <td>1.8200</td>\n      <td>80100.0</td>\n    </tr>\n    <tr>\n      <th>2</th>\n      <td>-114.56</td>\n      <td>33.69</td>\n      <td>17.0</td>\n      <td>720.0</td>\n      <td>174.0</td>\n      <td>333.0</td>\n      <td>117.0</td>\n      <td>1.6509</td>\n      <td>85700.0</td>\n    </tr>\n    <tr>\n      <th>3</th>\n      <td>-114.57</td>\n      <td>33.64</td>\n      <td>14.0</td>\n      <td>1501.0</td>\n      <td>337.0</td>\n      <td>515.0</td>\n      <td>226.0</td>\n      <td>3.1917</td>\n      <td>73400.0</td>\n    </tr>\n    <tr>\n      <th>4</th>\n      <td>-114.57</td>\n      <td>33.57</td>\n      <td>20.0</td>\n      <td>1454.0</td>\n      <td>326.0</td>\n      <td>624.0</td>\n      <td>262.0</td>\n      <td>1.9250</td>\n      <td>65500.0</td>\n    </tr>\n  </tbody>\n</table>\n</div>",
      "text/plain": "   longitude  latitude  housing_median_age  total_rooms  total_bedrooms  \\\n0    -114.31     34.19                15.0       5612.0          1283.0   \n1    -114.47     34.40                19.0       7650.0          1901.0   \n2    -114.56     33.69                17.0        720.0           174.0   \n3    -114.57     33.64                14.0       1501.0           337.0   \n4    -114.57     33.57                20.0       1454.0           326.0   \n\n   population  households  median_income  median_house_value  \n0      1015.0       472.0         1.4936             66900.0  \n1      1129.0       463.0         1.8200             80100.0  \n2       333.0       117.0         1.6509             85700.0  \n3       515.0       226.0         3.1917             73400.0  \n4       624.0       262.0         1.9250             65500.0  "
     },
     "execution_count": 26,
     "metadata": {},
     "output_type": "execute_result"
    }
   ],
   "source": [
    "california_housing_dataframe.head()"
   ]
  },
  {
   "cell_type": "code",
   "execution_count": 0,
   "metadata": {},
   "outputs": [],
   "source": [
    "california_housing_dataframe.plot(kind='bar',x='population',y='households',color='red')\n",
    "california_housing_dataframe.show()"
   ]
  },
  {
   "cell_type": "code",
   "execution_count": 0,
   "metadata": {},
   "outputs": [],
   "source": [
    "california_housing_dataframe.hist('population')"
   ]
  },
  {
   "cell_type": "code",
   "execution_count": null,
   "metadata": {},
   "outputs": [],
   "source": []
  }
 ]
}