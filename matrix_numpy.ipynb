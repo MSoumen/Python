{
 "nbformat": 4,
 "nbformat_minor": 2,
 "metadata": {
  "language_info": {
   "name": "python",
   "codemirror_mode": {
    "name": "ipython",
    "version": 3
   }
  },
  "orig_nbformat": 2,
  "file_extension": ".py",
  "mimetype": "text/x-python",
  "name": "python",
  "npconvert_exporter": "python",
  "pygments_lexer": "ipython3",
  "version": 3
 },
 "cells": [
  {
   "cell_type": "markdown",
   "execution_count": null,
   "metadata": {},
   "outputs": [],
   "source": [
    "# Matrix In NumPy"
   ]
  },
  {
   "cell_type": "markdown",
   "execution_count": null,
   "metadata": {},
   "outputs": [],
   "source": [
    "### Create MAtrix"
   ]
  },
  {
   "cell_type": "code",
   "execution_count": 8,
   "metadata": {},
   "outputs": [
    {
     "name": "stdout",
     "output_type": "stream",
     "text": "[[1 2 3 4]\n [2 0 0 3]\n [3 0 0 2]\n [4 3 2 1]]\n"
    }
   ],
   "source": [
    "import numpy as nm\n",
    "mat=nm.matrix('1 2 3 4 ; 2 0 0 3 ; 3 0 0 2 ; 4 3 2 1')# ;  s d f g h ; j k l z x\")\n",
    "print(mat)"
   ]
  },
  {
   "cell_type": "markdown",
   "execution_count": null,
   "metadata": {},
   "outputs": [],
   "source": [
    "### Create matrix from File"
   ]
  },
  {
   "cell_type": "code",
   "execution_count": 23,
   "metadata": {},
   "outputs": [
    {
     "name": "stdout",
     "output_type": "stream",
     "text": "[[ 11  22  33 111 222 333 444]\n [ 44  55  66 101 202 303 404]\n [ 77  88  99 909 808 707 999]] \n\n"
    }
   ],
   "source": [
    "mat_from_file=nm.genfromtxt('D:/Python/matrix.txt',int,delimiter=',') # Newline in txt file create a new line in matrix\n",
    "#mat_from_file=nm.genfromtxt('D:\\\\Python\\\\matrix.txt',int,delimiter=',') # Nalternative of above code\n",
    "print(mat_from_file,'\\n')"
   ]
  },
  {
   "cell_type": "code",
   "execution_count": 29,
   "metadata": {},
   "outputs": [
    {
     "name": "stdout",
     "output_type": "stream",
     "text": "[[False False False False False False False]\n [False False False False False False False]\n [False False False  True  True  True  True]]\n"
    }
   ],
   "source": [
    "print(mat_from_file>500)"
   ]
  },
  {
   "cell_type": "code",
   "execution_count": 30,
   "metadata": {},
   "outputs": [
    {
     "name": "stdout",
     "output_type": "stream",
     "text": "[909 808 707 999]\n"
    }
   ],
   "source": [
    "print( mat_from_file[mat_from_file>500] )"
   ]
  },
  {
   "cell_type": "code",
   "execution_count": 31,
   "metadata": {},
   "outputs": [
    {
     "data": {
      "text/plain": "array([11, 22, 33, 44, 55, 66, 77, 88, 99])"
     },
     "execution_count": 31,
     "metadata": {},
     "output_type": "execute_result"
    }
   ],
   "source": [
    "mat_from_file[mat_from_file<100]"
   ]
  },
  {
   "cell_type": "code",
   "execution_count": 27,
   "metadata": {},
   "outputs": [
    {
     "data": {
      "text/plain": "array([[ 11,  22,  33, 111, 222, 333, 444],\n       [ 44,  55,  66, 101, 202, 303, 404],\n       [ 77,  88,  99, 909, 808, 707, 999]])"
     },
     "execution_count": 27,
     "metadata": {},
     "output_type": "execute_result"
    }
   ],
   "source": [
    "mat_from_file"
   ]
  },
  {
   "cell_type": "code",
   "execution_count": null,
   "metadata": {},
   "outputs": [],
   "source": []
  }
 ]
}