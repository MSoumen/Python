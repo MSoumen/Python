{
 "nbformat": 4,
 "nbformat_minor": 2,
 "metadata": {
  "language_info": {
   "name": "python",
   "codemirror_mode": {
    "name": "ipython",
    "version": 3
   }
  },
  "orig_nbformat": 2,
  "file_extension": ".py",
  "mimetype": "text/x-python",
  "name": "python",
  "npconvert_exporter": "python",
  "pygments_lexer": "ipython3",
  "version": 3
 },
 "cells": [
  {
   "cell_type": "markdown",
   "execution_count": null,
   "metadata": {},
   "outputs": [],
   "source": [
    "# Array Operations"
   ]
  },
  {
   "cell_type": "code",
   "execution_count": 3,
   "metadata": {},
   "outputs": [
    {
     "name": "stdout",
     "output_type": "stream",
     "text": "[1 2 3 4 5]\n"
    }
   ],
   "source": [
    "import numpy as np\n",
    "# Create an array\n",
    "arr=np.array([1,2,3,4,5])\n",
    "print(arr)"
   ]
  },
  {
   "cell_type": "code",
   "execution_count": 4,
   "metadata": {},
   "outputs": [
    {
     "name": "stdout",
     "output_type": "stream",
     "text": "[ 6  7  8  9 10]\n"
    }
   ],
   "source": [
    "# Add 5 with each element\n",
    "print(arr+5)"
   ]
  },
  {
   "cell_type": "code",
   "execution_count": 5,
   "metadata": {},
   "outputs": [
    {
     "name": "stdout",
     "output_type": "stream",
     "text": "[6 6 6 6 6]\n"
    }
   ],
   "source": [
    "# Add two array\n",
    "arr2=np.array([5,4,3,2,1])\n",
    "print(arr+arr2)"
   ]
  },
  {
   "cell_type": "code",
   "execution_count": 10,
   "metadata": {},
   "outputs": [
    {
     "name": "stdout",
     "output_type": "stream",
     "text": "[ 0.84147098  0.90929743  0.14112001 -0.7568025  -0.95892427]\n[ 0.54030231 -0.41614684 -0.9899925  -0.65364362  0.28366219]\n5\n1\n[1.         1.41421356 1.73205081 2.         2.23606798]\n"
    }
   ],
   "source": [
    "# Arithmatic operations\n",
    "print(np.sin(arr))\n",
    "print(np.cos(arr))\n",
    "print(np.max(arr))\n",
    "print(np.min(arr))\n",
    "print(np.sqrt(arr))"
   ]
  },
  {
   "cell_type": "markdown",
   "execution_count": null,
   "metadata": {},
   "outputs": [],
   "source": [
    "## Copying two Array"
   ]
  },
  {
   "cell_type": "markdown",
   "execution_count": null,
   "metadata": {},
   "outputs": [],
   "source": [
    "In normal copying the address of both arrays are same and item change in one array affect another array"
   ]
  },
  {
   "cell_type": "code",
   "execution_count": 16,
   "metadata": {},
   "outputs": [
    {
     "name": "stdout",
     "output_type": "stream",
     "text": "[1 2 3 4 5]\n1722153516688\n1722153516688\narr1 = [1 9 3 4 5]\narr = [1 9 3 4 5]\n"
    }
   ],
   "source": [
    "# Normal copying\n",
    "arr1=arr\n",
    "print(arr1)\n",
    "print(id(arr))\n",
    "print(id(arr1))\n",
    "arr1[1]=9\n",
    "print('arr1 =',arr1)\n",
    "print('arr =',arr)"
   ]
  },
  {
   "cell_type": "markdown",
   "execution_count": null,
   "metadata": {},
   "outputs": [],
   "source": [
    "In SHALLOW copying the address of both arrays are different\n",
    "But\n",
    "Item change in one array affect another array"
   ]
  },
  {
   "cell_type": "code",
   "execution_count": 20,
   "metadata": {},
   "outputs": [
    {
     "name": "stdout",
     "output_type": "stream",
     "text": "[ 1 18  3  4  5]\n1722153516688\n1720305571360\narr1 = [ 1 18  3  4  5]\narr = [ 1 18  3  4  5]\n"
    }
   ],
   "source": [
    "# Shallow copy\n",
    "arr1=arr.view()\n",
    "print(arr1)\n",
    "print(id(arr))\n",
    "print(id(arr1))\n",
    "arr1[1]=18\n",
    "print('arr1 =',arr1)\n",
    "print('arr =',arr)"
   ]
  },
  {
   "cell_type": "markdown",
   "execution_count": null,
   "metadata": {},
   "outputs": [],
   "source": [
    "In DEEP copying the address of both arrays are different\n",
    " But \n",
    "Item change in one array DOES NOT affect another array"
   ]
  },
  {
   "cell_type": "code",
   "execution_count": 21,
   "metadata": {},
   "outputs": [
    {
     "name": "stdout",
     "output_type": "stream",
     "text": "[ 1 18  3  4  5]\n1722153516688\n1720320756432\narr1 = [ 1 27  3  4  5]\narr = [ 1 18  3  4  5]\n"
    }
   ],
   "source": [
    "# Deep copy\n",
    "arr1=arr.copy()\n",
    "print(arr1)\n",
    "print(id(arr))\n",
    "print(id(arr1))\n",
    "arr1[1]=27\n",
    "print('arr1 =',arr1)\n",
    "print('arr =',arr)"
   ]
  },
  {
   "cell_type": "code",
   "execution_count": null,
   "metadata": {},
   "outputs": [],
   "source": []
  }
 ]
}