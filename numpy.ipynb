{
 "nbformat": 4,
 "nbformat_minor": 2,
 "metadata": {
  "language_info": {
   "name": "python",
   "codemirror_mode": {
    "name": "ipython",
    "version": 3
   },
   "version": "3.8.1-final"
  },
  "orig_nbformat": 2,
  "file_extension": ".py",
  "mimetype": "text/x-python",
  "name": "python",
  "npconvert_exporter": "python",
  "pygments_lexer": "ipython3",
  "version": 3,
  "kernelspec": {
   "name": "python38164bitf55c051bedc641e994e688b4a798aefc",
   "display_name": "Python 3.8.1 64-bit"
  }
 },
 "cells": [
  {
   "cell_type": "markdown",
   "execution_count": null,
   "metadata": {},
   "outputs": [],
   "source": [
    "# NumPy in Python"
   ]
  },
  {
   "cell_type": "code",
   "execution_count": 1,
   "metadata": {},
   "outputs": [],
   "source": [
    "import numpy as np"
   ]
  },
  {
   "cell_type": "code",
   "execution_count": 8,
   "metadata": {},
   "outputs": [
    {
     "name": "stdout",
     "output_type": "stream",
     "text": "[1 2 3 4 5 6]\nint32\n(6,)\n"
    }
   ],
   "source": [
    "# List to array\n",
    "list1=[1,2,3,4,5,6]\n",
    "list_to_array=np.array(list1)\n",
    "print(list_to_array)\n",
    "print(list_to_array.dtype)\n",
    "print(list_to_array.shape)"
   ]
  },
  {
   "cell_type": "code",
   "execution_count": 16,
   "metadata": {},
   "outputs": [
    {
     "name": "stdout",
     "output_type": "stream",
     "text": "[[1 2 3 4]\n [4 3 2 1]]\nint32\n(2, 4)\n"
    }
   ],
   "source": [
    "# Create array using array func\n",
    "arr1=np.array([[1,2,3,4,],[4,3,2,1]])\n",
    "print(arr1)\n",
    "print(arr1.dtype)\n",
    "print(arr1.shape)"
   ]
  },
  {
   "cell_type": "code",
   "execution_count": 38,
   "metadata": {},
   "outputs": [
    {
     "name": "stdout",
     "output_type": "stream",
     "text": "[[0 0 0 0]\n [0 0 0 0]\n [0 0 0 0]\n [0 0 0 0]] \n\n[[1 1 1 1]\n [1 1 1 1]\n [1 1 1 1]\n [1 1 1 1]] \n\n[[5 5 5 5]\n [5 5 5 5]\n [5 5 5 5]\n [5 5 5 5]] \n\n[[5 0 3 7]\n [8 7 9 3]\n [7 6 3 5]\n [2 1 7 8]] \n\n[[0.79964327 0.74712981 0.72511105 0.08520294]\n [0.12049998 0.15972699 0.27111986 0.5154805 ]\n [0.09503466 0.88017705 0.51724522 0.40410446]\n [0.81550248 0.95763338 0.62848667 0.24902443]] \n\n[[ 2.38090246  0.94573216  0.24747785  4.17584873]\n [ 0.16041716 -0.63196929 -1.18246002 -0.35734161]\n [ 0.95185086 -0.36678164 -0.12692433 -1.60363245]\n [-0.82732545  1.32015996 -0.96518303  0.16392307]] \n\n"
    }
   ],
   "source": [
    "#--array with all zeros\n",
    "zeroArr=np.zeros(shape=(4,4),dtype=int)\n",
    "print(zeroArr,\"\\n\")\n",
    "#--array with all ones\n",
    "oneArr=np.ones(shape=(4,4),dtype=int)\n",
    "print(oneArr,\"\\n\")\n",
    "#--array with all one values\n",
    "allArr=np.full(shape=(4,4),fill_value=5,dtype=int)\n",
    "print(allArr,\"\\n\")\n",
    "#--array with random values(int)\n",
    "randArr=np.random.randint(low=0,high=10,size=(4,4),dtype=\"int32\")\n",
    "print(randArr,\"\\n\")\n",
    "#-- arrayy with random_values(float)\n",
    "randArr1=np.random.rand(4,4) # give values between 0 1\n",
    "print(randArr1,\"\\n\")\n",
    "randArr2=np.random.randn(4,4) # give values between 0 1\n",
    "print(randArr2,\"\\n\")"
   ]
  },
  {
   "cell_type": "code",
   "execution_count": null,
   "metadata": {},
   "outputs": [],
   "source": []
  }
 ]
}