{
 "nbformat": 4,
 "nbformat_minor": 2,
 "metadata": {
  "language_info": {
   "name": "python",
   "codemirror_mode": {
    "name": "ipython",
    "version": 3
   },
   "version": "3.8.1-final"
  },
  "orig_nbformat": 2,
  "file_extension": ".py",
  "mimetype": "text/x-python",
  "name": "python",
  "npconvert_exporter": "python",
  "pygments_lexer": "ipython3",
  "version": 3,
  "kernelspec": {
   "name": "python38164bitf55c051bedc641e994e688b4a798aefc",
   "display_name": "Python 3.8.1 64-bit"
  }
 },
 "cells": [
  {
   "cell_type": "markdown",
   "execution_count": null,
   "metadata": {},
   "outputs": [],
   "source": [
    "# Array With NumPy"
   ]
  },
  {
   "cell_type": "markdown",
   "execution_count": null,
   "metadata": {},
   "outputs": [],
   "source": [
    "Importing Numpy"
   ]
  },
  {
   "source": [
    "from numpy import *"
   ],
   "cell_type": "code",
   "outputs": [],
   "metadata": {},
   "execution_count": 93
  },
  {
   "cell_type": "markdown",
   "execution_count": null,
   "metadata": {},
   "outputs": [],
   "source": [
    "## Create array using array()"
   ]
  },
  {
   "source": [
    "arr=array([1,3,2.56,4,8],dtype=int32)\n",
    "print(arr)"
   ],
   "cell_type": "code",
   "outputs": [
    {
     "output_type": "stream",
     "name": "stdout",
     "text": "[1 3 2 4 8]\n"
    }
   ],
   "metadata": {},
   "execution_count": 98
  },
  {
   "source": [
    "arr=array([1,3,2.56,4,8],int32)\n",
    "print(arr)"
   ],
   "cell_type": "code",
   "outputs": [
    {
     "output_type": "stream",
     "name": "stdout",
     "text": "[1 3 2 4 8]\n"
    }
   ],
   "metadata": {},
   "execution_count": 94
  },
  {
   "source": [
    "arr=array([1,3,2.56,4,8],float)\n",
    "print(arr)"
   ],
   "cell_type": "code",
   "outputs": [
    {
     "output_type": "stream",
     "name": "stdout",
     "text": "[1.   3.   2.56 4.   8.  ]\n"
    }
   ],
   "metadata": {},
   "execution_count": 95
  },
  {
   "source": [
    "arr=array([11,12,'p',1.2222,19])\n",
    "print(arr)"
   ],
   "cell_type": "code",
   "outputs": [
    {
     "output_type": "stream",
     "name": "stdout",
     "text": "['11' '12' 'p' '1.2222' '19']\n"
    }
   ],
   "metadata": {},
   "execution_count": 96
  },
  {
   "cell_type": "markdown",
   "execution_count": null,
   "metadata": {},
   "outputs": [],
   "source": [
    "## Create array using linspace()"
   ]
  },
  {
   "source": [
    "arr=linspace(1,20,num=20)\n",
    "print(arr.dtype)\n",
    "print(arr)"
   ],
   "cell_type": "code",
   "outputs": [
    {
     "output_type": "stream",
     "name": "stdout",
     "text": "float64\n[ 1.  2.  3.  4.  5.  6.  7.  8.  9. 10. 11. 12. 13. 14. 15. 16. 17. 18.\n 19. 20.]\n"
    }
   ],
   "metadata": {},
   "execution_count": 97
  },
  {
   "cell_type": "markdown",
   "execution_count": null,
   "metadata": {},
   "outputs": [],
   "source": [
    "When every parameter is default"
   ]
  },
  {
   "source": [
    "arr=linspace(1,20,num=50,endpoint=True,retstep=None,dtype=None,axis=0) #--All values are default--\n",
    "print(arr.dtype)\n",
    "print(arr)\n",
    "print('Space between two items is',arr[49]-arr[48])\n",
    "print('Space between two items is',arr[5]-arr[4])\n",
    "print('Space between two items is',arr[4]-arr[3])\n",
    "print('Space between two items is',arr[3]-arr[2])\n",
    "print('Space between two items is',arr[2]-arr[1])"
   ],
   "cell_type": "code",
   "outputs": [
    {
     "output_type": "stream",
     "name": "stdout",
     "text": "float64\n[ 1.          1.3877551   1.7755102   2.16326531  2.55102041  2.93877551\n  3.32653061  3.71428571  4.10204082  4.48979592  4.87755102  5.26530612\n  5.65306122  6.04081633  6.42857143  6.81632653  7.20408163  7.59183673\n  7.97959184  8.36734694  8.75510204  9.14285714  9.53061224  9.91836735\n 10.30612245 10.69387755 11.08163265 11.46938776 11.85714286 12.24489796\n 12.63265306 13.02040816 13.40816327 13.79591837 14.18367347 14.57142857\n 14.95918367 15.34693878 15.73469388 16.12244898 16.51020408 16.89795918\n 17.28571429 17.67346939 18.06122449 18.44897959 18.83673469 19.2244898\n 19.6122449  20.        ]\nSpace between two items is 0.387755102040817\nSpace between two items is 0.3877551020408161\nSpace between two items is 0.3877551020408161\nSpace between two items is 0.38775510204081653\nSpace between two items is 0.3877551020408163\n"
    }
   ],
   "metadata": {},
   "execution_count": 99
  },
  {
   "cell_type": "markdown",
   "execution_count": null,
   "metadata": {},
   "outputs": [],
   "source": [
    "When endpoint is False"
   ]
  },
  {
   "source": [
    "arr=linspace(1,20,endpoint=False) #--endpoint=false i.e: 'stop' value is excluded....\n",
    "print(arr.dtype)\n",
    "print(arr)\n",
    "print('Space between two items is',arr[6]-arr[5])"
   ],
   "cell_type": "code",
   "outputs": [
    {
     "output_type": "stream",
     "name": "stdout",
     "text": "float64\n[ 1.    1.38  1.76  2.14  2.52  2.9   3.28  3.66  4.04  4.42  4.8   5.18\n  5.56  5.94  6.32  6.7   7.08  7.46  7.84  8.22  8.6   8.98  9.36  9.74\n 10.12 10.5  10.88 11.26 11.64 12.02 12.4  12.78 13.16 13.54 13.92 14.3\n 14.68 15.06 15.44 15.82 16.2  16.58 16.96 17.34 17.72 18.1  18.48 18.86\n 19.24 19.62]\nSpace between two items is 0.38000000000000034\n"
    }
   ],
   "metadata": {},
   "execution_count": 100
  },
  {
   "cell_type": "markdown",
   "execution_count": null,
   "metadata": {},
   "outputs": [],
   "source": [
    "When num is 10 (i.e: number of item is 10)"
   ]
  },
  {
   "source": [
    "arr=linspace(1,20,num=10) #--endpoint=false i.e: 'stop' value is excluded....\n",
    "print(arr.dtype)\n",
    "print(arr)\n",
    "print('Space between two items is',arr[6]-arr[5])"
   ],
   "cell_type": "code",
   "outputs": [
    {
     "output_type": "stream",
     "name": "stdout",
     "text": "float64\n[ 1.          3.11111111  5.22222222  7.33333333  9.44444444 11.55555556\n 13.66666667 15.77777778 17.88888889 20.        ]\nSpace between two items is 2.1111111111111125\n"
    }
   ],
   "metadata": {},
   "execution_count": 101
  },
  {
   "cell_type": "markdown",
   "execution_count": null,
   "metadata": {},
   "outputs": [],
   "source": [
    "Printing array along with steps difference"
   ]
  },
  {
   "source": [
    "arr=linspace(1,20,retstep=True) #--endpoint=false i.e: 'stop' value is excluded....\n",
    "#print(arr.dtype)\n",
    "print(arr)\n",
    "print(type(arr))\n",
    "#print('Space between two items is',arr[6]-arr[5])"
   ],
   "cell_type": "code",
   "outputs": [
    {
     "output_type": "stream",
     "name": "stdout",
     "text": "(array([ 1.        ,  1.3877551 ,  1.7755102 ,  2.16326531,  2.55102041,\n        2.93877551,  3.32653061,  3.71428571,  4.10204082,  4.48979592,\n        4.87755102,  5.26530612,  5.65306122,  6.04081633,  6.42857143,\n        6.81632653,  7.20408163,  7.59183673,  7.97959184,  8.36734694,\n        8.75510204,  9.14285714,  9.53061224,  9.91836735, 10.30612245,\n       10.69387755, 11.08163265, 11.46938776, 11.85714286, 12.24489796,\n       12.63265306, 13.02040816, 13.40816327, 13.79591837, 14.18367347,\n       14.57142857, 14.95918367, 15.34693878, 15.73469388, 16.12244898,\n       16.51020408, 16.89795918, 17.28571429, 17.67346939, 18.06122449,\n       18.44897959, 18.83673469, 19.2244898 , 19.6122449 , 20.        ]), 0.3877551020408163)\n<class 'tuple'>\n"
    }
   ],
   "metadata": {},
   "execution_count": 102
  },
  {
   "cell_type": "markdown",
   "execution_count": null,
   "metadata": {},
   "outputs": [],
   "source": [
    "Changing the datatype of items"
   ]
  },
  {
   "source": [
    "arr=linspace(1,20,dtype=int32)\n",
    "print(arr.dtype)\n",
    "print(arr)"
   ],
   "cell_type": "code",
   "outputs": [
    {
     "output_type": "stream",
     "name": "stdout",
     "text": "int32\n[ 1  1  1  2  2  2  3  3  4  4  4  5  5  6  6  6  7  7  7  8  8  9  9  9\n 10 10 11 11 11 12 12 13 13 13 14 14 14 15 15 16 16 16 17 17 18 18 18 19\n 19 20]\n"
    }
   ],
   "metadata": {},
   "execution_count": 103
  },
  {
   "source": [
    "arr=linspace(1,20,dtype=float32)\n",
    "print(arr.dtype)\n",
    "print(arr)\n",
    "print('Space between two items is',arr[6]-arr[5])"
   ],
   "cell_type": "code",
   "outputs": [
    {
     "output_type": "stream",
     "name": "stdout",
     "text": "float32\n[ 1.         1.3877552  1.7755102  2.1632652  2.5510204  2.9387755\n  3.3265307  3.7142856  4.102041   4.4897957  4.877551   5.265306\n  5.6530614  6.0408163  6.428571   6.8163266  7.2040815  7.591837\n  7.979592   8.367347   8.755102   9.142858   9.530612   9.918367\n 10.306123  10.693877  11.081633  11.469388  11.857142  12.244898\n 12.632653  13.020409  13.408163  13.795918  14.183674  14.571428\n 14.959184  15.346939  15.734694  16.12245   16.510204  16.897959\n 17.285715  17.67347   18.061224  18.44898   18.836735  19.22449\n 19.612246  20.       ]\nSpace between two items is 0.38775516\n"
    }
   ],
   "metadata": {},
   "execution_count": 104
  },
  {
   "cell_type": "markdown",
   "execution_count": null,
   "metadata": {},
   "outputs": [],
   "source": [
    "## Create array using logspace()"
   ]
  },
  {
   "cell_type": "markdown",
   "execution_count": null,
   "metadata": {},
   "outputs": [],
   "source": [
    "Why logspace: caz in linspace we cannot change the space between two items \n",
    "but the difference in logspace() spacing is different ..."
   ]
  },
  {
   "source": [
    "arr=logspace(1,50,num=50,dtype=None,base=10.0,endpoint=True,axis=0) #all default Values provided\n",
    "print(arr.dtype,'\\n')\n",
    "print(arr,'\\n')\n",
    "print('%.2f' %arr[49],'\\n')\n",
    "print('Space between two items is',arr[49]-arr[48])\n",
    "print('Space between two items is',arr[5]-arr[4])\n",
    "print('Space between two items is',arr[4]-arr[3])\n",
    "print('Space between two items is',arr[3]-arr[2])\n",
    "print('Space between two items is',arr[2]-arr[1])"
   ],
   "cell_type": "code",
   "outputs": [
    {
     "output_type": "stream",
     "name": "stdout",
     "text": "float64 \n\n[1.e+01 1.e+02 1.e+03 1.e+04 1.e+05 1.e+06 1.e+07 1.e+08 1.e+09 1.e+10\n 1.e+11 1.e+12 1.e+13 1.e+14 1.e+15 1.e+16 1.e+17 1.e+18 1.e+19 1.e+20\n 1.e+21 1.e+22 1.e+23 1.e+24 1.e+25 1.e+26 1.e+27 1.e+28 1.e+29 1.e+30\n 1.e+31 1.e+32 1.e+33 1.e+34 1.e+35 1.e+36 1.e+37 1.e+38 1.e+39 1.e+40\n 1.e+41 1.e+42 1.e+43 1.e+44 1.e+45 1.e+46 1.e+47 1.e+48 1.e+49 1.e+50] \n\n100000000000000007629769841091887003294964970946560.00 \n\nSpace between two items is 9.000000000000001e+49\nSpace between two items is 900000.0\nSpace between two items is 90000.0\nSpace between two items is 9000.0\nSpace between two items is 900.0\n"
    }
   ],
   "metadata": {},
   "execution_count": 105
  },
  {
   "cell_type": "markdown",
   "execution_count": null,
   "metadata": {},
   "outputs": [],
   "source": [
    "When base changes to 2.0"
   ]
  },
  {
   "source": [
    "arr=logspace(2,3,base=2.0)\n",
    "print(arr.dtype)\n",
    "print(arr)\n",
    "print('Space between two items is',arr[6]-arr[5])"
   ],
   "cell_type": "code",
   "outputs": [
    {
     "output_type": "stream",
     "name": "stdout",
     "text": "float64\n[4.         4.05698555 4.11478293 4.17340372 4.23285965 4.2931626\n 4.35432466 4.41635805 4.4792752  4.54308869 4.60781129 4.67345595\n 4.74003581 4.8075642  4.87605462 4.94552078 5.01597658 5.08743612\n 5.15991371 5.23342383 5.30798122 5.38360077 5.46029763 5.53808714\n 5.61698488 5.69700662 5.77816838 5.8604864  5.94397716 6.02865736\n 6.11454394 6.2016541  6.29000526 6.37961511 6.47050158 6.56268285\n 6.65617737 6.75100385 6.84718126 6.94472885 7.04366615 7.14401294\n 7.24578931 7.34901563 7.45371255 7.55990103 7.6676023  7.77683793\n 7.88762977 8.        ]\nSpace between two items is 0.061162055781883495\n"
    }
   ],
   "metadata": {},
   "execution_count": 106
  },
  {
   "source": [
    "arr=logspace(2,3,endpoint=False)\n",
    "print(arr.dtype)\n",
    "print(arr)\n",
    "print('Space between two items is',arr[49]-arr[48])\n",
    "print('Space between two items is',arr[5]-arr[4])\n",
    "print('Space between two items is',arr[4]-arr[3])\n",
    "print('Space between two items is',arr[3]-arr[2])\n",
    "print('Space between two items is',arr[2]-arr[1])"
   ],
   "cell_type": "code",
   "outputs": [
    {
     "output_type": "stream",
     "name": "stdout",
     "text": "float64\n[100.         104.71285481 109.64781961 114.81536215 120.22644346\n 125.89254118 131.82567386 138.03842646 144.54397707 151.35612484\n 158.48931925 165.95869074 173.78008287 181.97008586 190.5460718\n 199.5262315  208.92961309 218.77616239 229.08676528 239.8832919\n 251.18864315 263.02679919 275.42287033 288.40315031 301.99517204\n 316.22776602 331.13112148 346.73685045 363.07805477 380.18939632\n 398.10717055 416.86938347 436.51583224 457.08818961 478.63009232\n 501.18723363 524.80746025 549.54087386 575.43993734 602.55958607\n 630.95734448 660.69344801 691.83097092 724.43596007 758.57757503\n 794.32823472 831.7637711  870.96358996 912.01083936 954.99258602]\nSpace between two items is 42.981746665526316\nSpace between two items is 5.6660977176754415\nSpace between two items is 5.411081312053028\nSpace between two items is 5.167542535369776\nSpace between two items is 4.934964809228546\n"
    }
   ],
   "metadata": {},
   "execution_count": 107
  },
  {
   "source": [
    "arr=logspace(2,3,10)\n",
    "print(arr.dtype)\n",
    "print(arr)\n",
    ""
   ],
   "cell_type": "code",
   "outputs": [
    {
     "output_type": "stream",
     "name": "stdout",
     "text": "float64\n[ 100.          129.1549665   166.81005372  215.443469    278.25594022\n  359.38136638  464.15888336  599.48425032  774.26368268 1000.        ]\n"
    }
   ],
   "metadata": {},
   "execution_count": 108
  },
  {
   "cell_type": "markdown",
   "execution_count": null,
   "metadata": {},
   "outputs": [],
   "source": [
    "Make logspace() elements using linspace() and power()"
   ]
  },
  {
   "source": [
    "arr1=linspace(2,3)\n",
    "print(arr1,'\\n')\n",
    "arr2=power(10.0,arr1)\n",
    "print(arr2)\n",
    "print(arr2[1]-arr1[1])\n",
    "print(arr2[2]-arr1[2])\n",
    "print(arr2[3]-arr1[3])\n",
    "print(arr2[4]-arr1[4])\n",
    "print(arr2[5]-arr1[5])\n",
    "print(arr2[6]-arr1[6])"
   ],
   "cell_type": "code",
   "outputs": [
    {
     "output_type": "stream",
     "name": "stdout",
     "text": "[2.         2.02040816 2.04081633 2.06122449 2.08163265 2.10204082\n 2.12244898 2.14285714 2.16326531 2.18367347 2.20408163 2.2244898\n 2.24489796 2.26530612 2.28571429 2.30612245 2.32653061 2.34693878\n 2.36734694 2.3877551  2.40816327 2.42857143 2.44897959 2.46938776\n 2.48979592 2.51020408 2.53061224 2.55102041 2.57142857 2.59183673\n 2.6122449  2.63265306 2.65306122 2.67346939 2.69387755 2.71428571\n 2.73469388 2.75510204 2.7755102  2.79591837 2.81632653 2.83673469\n 2.85714286 2.87755102 2.89795918 2.91836735 2.93877551 2.95918367\n 2.97959184 3.        ] \n\n[ 100.          104.81131342  109.8541142   115.13953993  120.67926406\n  126.48552169  132.57113656  138.94954944  145.63484775  152.64179672\n  159.98587196  167.68329368  175.75106249  184.20699693  193.06977289\n  202.35896477  212.09508879  222.29964825  232.99518105  244.20530945\n  255.95479227  268.26957953  281.1768698   294.70517026  308.88435965\n  323.74575428  339.32217719  355.64803062  372.75937203  390.69399371\n  409.49150624  429.19342601  449.8432669   471.48663635  494.17133613\n  517.94746792  542.86754393  568.9866029   596.36233166  625.05519253\n  655.12855686  686.648845    719.685673    754.31200634  790.60432109\n  828.64277285  868.51137375  910.29817799  954.09547635 1000.        ]\n102.79090525220323\n107.81329787222522\n113.07831544284878\n118.59763141087167\n124.38348086920304\n130.4486875794191\n"
    }
   ],
   "metadata": {},
   "execution_count": 109
  },
  {
   "cell_type": "markdown",
   "execution_count": null,
   "metadata": {},
   "outputs": [],
   "source": [
    "## Creating array with zeros() and ones()"
   ]
  },
  {
   "source": [
    "arr1=zeros(10,int32)\n",
    "arr2=ones(10,int)\n",
    "print(arr1)\n",
    "print(arr2)"
   ],
   "cell_type": "code",
   "outputs": [
    {
     "output_type": "stream",
     "name": "stdout",
     "text": "[0 0 0 0 0 0 0 0 0 0]\n[1 1 1 1 1 1 1 1 1 1]\n"
    }
   ],
   "metadata": {},
   "execution_count": 110
  },
  {
   "source": [
    "arr1=zeros(10,int,order='F')\n",
    "arr2=ones(10,int,order='F')\n",
    "print(arr1)\n",
    "print(arr2)"
   ],
   "cell_type": "code",
   "outputs": [
    {
     "output_type": "stream",
     "name": "stdout",
     "text": "[0 0 0 0 0 0 0 0 0 0]\n[1 1 1 1 1 1 1 1 1 1]\n"
    }
   ],
   "metadata": {},
   "execution_count": 111
  },
  {
   "cell_type": "code",
   "execution_count": null,
   "metadata": {},
   "outputs": [],
   "source": []
  }
 ]
}