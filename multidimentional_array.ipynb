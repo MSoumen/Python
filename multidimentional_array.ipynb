{
 "nbformat": 4,
 "nbformat_minor": 2,
 "metadata": {
  "language_info": {
   "name": "python",
   "codemirror_mode": {
    "name": "ipython",
    "version": 3
   },
   "version": "3.8.1-final"
  },
  "orig_nbformat": 2,
  "file_extension": ".py",
  "mimetype": "text/x-python",
  "name": "python",
  "npconvert_exporter": "python",
  "pygments_lexer": "ipython3",
  "version": 3,
  "kernelspec": {
   "name": "python38164bitf55c051bedc641e994e688b4a798aefc",
   "display_name": "Python 3.8.1 64-bit"
  }
 },
 "cells": [
  {
   "cell_type": "markdown",
   "execution_count": null,
   "metadata": {},
   "outputs": [],
   "source": [
    "# Multidimentional Array"
   ]
  },
  {
   "cell_type": "code",
   "execution_count": 3,
   "metadata": {},
   "outputs": [
    {
     "name": "stdout",
     "output_type": "stream",
     "text": "[[1 2 3 4]\n [5 6 7 8]\n [4 3 2 1]\n [8 7 6 5]]\n"
    }
   ],
   "source": [
    "import numpy as nm\n",
    "# Creating a 2D array--\n",
    "arr=nm.array([\n",
    "    [1,2,3,4],\n",
    "    [5,6,7,8],\n",
    "    [4,3,2,1],\n",
    "    [8,7,6,5]\n",
    "])\n",
    "print(arr)"
   ]
  },
  {
   "cell_type": "code",
   "execution_count": 4,
   "metadata": {},
   "outputs": [
    {
     "name": "stdout",
     "output_type": "stream",
     "text": "2\n(4, 4)\n16\n4\n64\n64\n"
    }
   ],
   "source": [
    "print(arr.ndim)     # Gives the dimention of the array\n",
    "print(arr.shape)  #prints tuple of (rows,cols)\n",
    "print(arr.size)     # Gives the number of items of array\n",
    "print(arr.itemsize)     # returns size of one item\n",
    "print(arr.nbytes)       # Returns total byteSize of the array\n",
    "print(arr.size*arr.itemsize)        # Returns total byteSize of the array\n"
   ]
  },
  {
   "cell_type": "markdown",
   "execution_count": null,
   "metadata": {},
   "outputs": [],
   "source": [
    "## Array Transformation"
   ]
  },
  {
   "cell_type": "code",
   "execution_count": 5,
   "metadata": {},
   "outputs": [
    {
     "name": "stdout",
     "output_type": "stream",
     "text": "[1 2 3 4 5 6 7 8 4 3 2 1 8 7 6 5]\n[[1 2]\n [3 4]\n [5 6]\n [7 8]\n [4 3]\n [2 1]\n [8 7]\n [6 5]]\n"
    }
   ],
   "source": [
    "arr1=arr.flatten()  # Makes a mult-dim array to Single-Dim array\n",
    "print(arr1)\n",
    "arr2=arr1.reshape(8,2)  #returns array of 8*2 from an exixting array---where 8=Row 2=Col\n",
    "print(arr2)"
   ]
  },
  {
   "cell_type": "markdown",
   "execution_count": null,
   "metadata": {},
   "outputs": [],
   "source": [
    "## Transform arrays into Matrices"
   ]
  },
  {
   "cell_type": "code",
   "execution_count": 6,
   "metadata": {},
   "outputs": [
    {
     "name": "stdout",
     "output_type": "stream",
     "text": "[[1 2 3 4]\n [5 6 7 8]\n [4 3 2 1]\n [8 7 6 5]]\n\n[[1 2 3 4]\n [5 6 7 8]\n [4 3 2 1]\n [8 7 6 5]]\n"
    }
   ],
   "source": [
    "print(arr) #its an array\n",
    "print()\n",
    "mat=nm.matrix(arr)   #convert array in a matrix\n",
    "print(mat)"
   ]
  },
  {
   "cell_type": "markdown",
   "execution_count": null,
   "metadata": {},
   "outputs": [],
   "source": [
    "* Why convert in numpy.matrix()"
   ]
  },
  {
   "cell_type": "code",
   "execution_count": 7,
   "metadata": {},
   "outputs": [
    {
     "name": "stdout",
     "output_type": "stream",
     "text": "[[ 1  4  9 16]\n [ 5 12 21 32]\n [ 4  6  6  4]\n [ 8 14 18 20]]\n\n[[ 10  20  30  40]\n [ 26  52  78 104]\n [ 10  20  30  40]\n [ 26  52  78 104]]\n"
    }
   ],
   "source": [
    "arr1=nm.array([\n",
    "    [1,2,3,4],\n",
    "    [1,2,3,4],\n",
    "    [1,2,3,4],\n",
    "    [1,2,3,4]\n",
    "])\n",
    "print(arr1*arr) # Array multiplication \n",
    "print()\n",
    "mat1=nm.matrix(arr1)\n",
    "print(mat*mat1) # Matrix multiplicaton\n",
    "# See the output differences"
   ]
  },
  {
   "cell_type": "markdown",
   "execution_count": null,
   "metadata": {},
   "outputs": [],
   "source": [
    "## Create Matrix"
   ]
  },
  {
   "cell_type": "code",
   "execution_count": 8,
   "metadata": {},
   "outputs": [
    {
     "name": "stdout",
     "output_type": "stream",
     "text": "[[1 2 3 4]\n [5 6 7 8]\n [8 7 6 5]\n [4 3 2 1]]\n"
    }
   ],
   "source": [
    "mat=nm.matrix('1 2 3 4 ; 5 6 7 8 ; 8 7 6 5 ; 4 3 2 1')\n",
    "print(mat)"
   ]
  },
  {
   "cell_type": "markdown",
   "execution_count": null,
   "metadata": {},
   "outputs": [],
   "source": [
    "## Get Specific Rows and cols"
   ]
  },
  {
   "cell_type": "code",
   "execution_count": 9,
   "metadata": {},
   "outputs": [
    {
     "name": "stdout",
     "output_type": "stream",
     "text": "[[1 2 3 4]\n [5 6 7 8]\n [4 3 2 1]\n [8 7 6 5]] \n\n[4 3 2 1] \n\n[3 7 2 6] \n\n[[6 7]\n [3 2]] \n\n[[1 1]\n [1 1]] \n\n[[1 2 3 4]\n [5 0 0 8]\n [4 0 0 1]\n [8 7 6 5]]\n"
    }
   ],
   "source": [
    "print(arr,'\\n')\n",
    "print(arr[2,:],'\\n') # Prints all cols of 3rd(2+1) row\n",
    "print(arr[:,2],'\\n') # Prints all rows of 3rd(2+1) col\n",
    "print(arr[1:3,1:3],'\\n')    #format-- arr[row,col]---where row,col = exclusive :(to) exclusive\n",
    "print(nm.ones((2,2),int),'\\n')\n",
    "arr[1:3,1:3]=nm.zeros((2,2),int)\n",
    "print(arr)"
   ]
  },
  {
   "cell_type": "markdown",
   "execution_count": null,
   "metadata": {},
   "outputs": [],
   "source": [
    "Pass  A List as Index"
   ]
  },
  {
   "cell_type": "code",
   "execution_count": 12,
   "metadata": {},
   "outputs": [
    {
     "name": "stdout",
     "output_type": "stream",
     "text": "[[5 0 0 8]\n [4 0 0 1]] \n\n[33 66 44 55 22]\n"
    }
   ],
   "source": [
    "print(arr[[1,2]],'\\n')\n",
    "arr3=nm.array([11,22,33,44,55,66,77,88,99,0])\n",
    "lists=[2,5,3,4,1]\n",
    "print(arr3[lists])\n"
   ]
  },
  {
   "cell_type": "code",
   "execution_count": null,
   "metadata": {},
   "outputs": [],
   "source": []
  }
 ]
}